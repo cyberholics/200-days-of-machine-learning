{
  "nbformat": 4,
  "nbformat_minor": 0,
  "metadata": {
    "colab": {
      "provenance": [],
      "authorship_tag": "ABX9TyOZ2JM7aNK0lk8wQCwds6MB",
      "include_colab_link": true
    },
    "kernelspec": {
      "name": "python3",
      "display_name": "Python 3"
    },
    "language_info": {
      "name": "python"
    }
  },
  "cells": [
    {
      "cell_type": "markdown",
      "metadata": {
        "id": "view-in-github",
        "colab_type": "text"
      },
      "source": [
        "<a href=\"https://colab.research.google.com/github/cyberholics/200-days-of-machine-learning/blob/main/pytorch_fundamentals_.ipynb\" target=\"_parent\"><img src=\"https://colab.research.google.com/assets/colab-badge.svg\" alt=\"Open In Colab\"/></a>"
      ]
    },
    {
      "cell_type": "code",
      "execution_count": 2,
      "metadata": {
        "id": "5In7-pc1ghkH"
      },
      "outputs": [],
      "source": [
        "#import pytorch framework\n",
        "import torch\n"
      ]
    },
    {
      "cell_type": "markdown",
      "source": [
        "### Creating Tensors"
      ],
      "metadata": {
        "id": "e7z4XjRPk64e"
      }
    },
    {
      "cell_type": "code",
      "source": [
        "import torch\n",
        "\n",
        "# Create a tensor from a Python list\n",
        "tensor1 = torch.tensor([[1, 2, 3], [4, 5, 6]])\n",
        "\n",
        "# Create a tensor of zeros with shape (2, 3)\n",
        "zeros_tensor = torch.zeros(2, 3)\n",
        "\n",
        "# Create a tensor of random values with shape (2, 3)\n",
        "random_tensor = torch.rand(2, 3)\n",
        "\n",
        "# Print tensors\n",
        "print(\"Tensor 1:\", tensor1)\n",
        "\n",
        "print(\"Zeros Tensor:\", zeros_tensor)\n",
        "\n",
        "print(\"Random Tensor:\", random_tensor)\n"
      ],
      "metadata": {
        "id": "elm8BbVlkY4O",
        "colab": {
          "base_uri": "https://localhost:8080/"
        },
        "outputId": "a815f105-d9e0-41cd-d32e-04ab9836bfbd"
      },
      "execution_count": 4,
      "outputs": [
        {
          "output_type": "stream",
          "name": "stdout",
          "text": [
            "Tensor 1: tensor([[1, 2, 3],\n",
            "        [4, 5, 6]])\n",
            "Zeros Tensor: tensor([[0., 0., 0.],\n",
            "        [0., 0., 0.]])\n",
            "Random Tensor: tensor([[0.8247, 0.7227, 0.8296],\n",
            "        [0.7454, 0.5778, 0.8303]])\n"
          ]
        }
      ]
    },
    {
      "cell_type": "markdown",
      "source": [
        "### Operating tensor"
      ],
      "metadata": {
        "id": "lLCRDDmm11VJ"
      }
    },
    {
      "cell_type": "code",
      "source": [
        "# Addition\n",
        "tensor2 = torch.tensor([[7, 8, 9], [10, 11, 12]])\n",
        "sum_tensor = tensor1 + tensor2\n",
        "\n",
        "# Multiplication\n",
        "mul_tensor = tensor1 * 2\n",
        "\n",
        "print(\"Sum Tensor:\", sum_tensor)\n",
        "print(\"Multiplication Tensor:\", mul_tensor)"
      ],
      "metadata": {
        "colab": {
          "base_uri": "https://localhost:8080/"
        },
        "id": "4C3W_xdIiY5E",
        "outputId": "68da5239-2aec-4263-d2df-f96ce326006c"
      },
      "execution_count": 5,
      "outputs": [
        {
          "output_type": "stream",
          "name": "stdout",
          "text": [
            "Sum Tensor: tensor([[ 8, 10, 12],\n",
            "        [14, 16, 18]])\n",
            "Multiplication Tensor: tensor([[ 2,  4,  6],\n",
            "        [ 8, 10, 12]])\n"
          ]
        }
      ]
    },
    {
      "cell_type": "markdown",
      "source": [
        "### Reshaping tesnsor"
      ],
      "metadata": {
        "id": "LWH2Uu1h17eL"
      }
    },
    {
      "cell_type": "code",
      "source": [
        "# Reshape tensor1 to shape (3, 2)\n",
        "reshaped_tensor = tensor1.view(3, 2)\n",
        "\n",
        "print(\"Original Tensor:\", tensor1)\n",
        "print(\"Reshaped Tensor:\", reshaped_tensor)\n",
        "\n"
      ],
      "metadata": {
        "colab": {
          "base_uri": "https://localhost:8080/"
        },
        "id": "71n-vqzf1-lx",
        "outputId": "d6cf144e-f3a4-4bd0-9687-df009bd94137"
      },
      "execution_count": 6,
      "outputs": [
        {
          "output_type": "stream",
          "name": "stdout",
          "text": [
            "Original Tensor: tensor([[1, 2, 3],\n",
            "        [4, 5, 6]])\n",
            "Reshaped Tensor: tensor([[1, 2],\n",
            "        [3, 4],\n",
            "        [5, 6]])\n"
          ]
        }
      ]
    },
    {
      "cell_type": "markdown",
      "source": [
        "### Matrix multiplication"
      ],
      "metadata": {
        "id": "uYjlc9v53ahR"
      }
    },
    {
      "cell_type": "code",
      "source": [
        "# Matrix multiplication\n",
        "tensor3 = torch.tensor([[1, 2], [3, 4], [5, 6]])\n",
        "tensor4 = torch.tensor([[7, 8], [9, 10]])\n",
        "\n",
        "# Perform matrix multiplication\n",
        "matmul_result = torch.matmul(tensor3, tensor4)\n",
        "\n",
        "print(\"Matrix Multiplication Result:\")\n",
        "print(matmul_result)\n"
      ],
      "metadata": {
        "colab": {
          "base_uri": "https://localhost:8080/"
        },
        "id": "4TR_yQW01_qF",
        "outputId": "4a1a2726-07a1-4039-bfc7-98b602792117"
      },
      "execution_count": 7,
      "outputs": [
        {
          "output_type": "stream",
          "name": "stdout",
          "text": [
            "Matrix Multiplication Result:\n",
            "tensor([[ 25,  28],\n",
            "        [ 57,  64],\n",
            "        [ 89, 100]])\n"
          ]
        }
      ]
    },
    {
      "cell_type": "markdown",
      "source": [
        "### Indexing and Slicing"
      ],
      "metadata": {
        "id": "03CpCpV93-JO"
      }
    },
    {
      "cell_type": "code",
      "source": [
        "# Indexing\n",
        "element = tensor3[0, 1]  # Access element at row 0, column 1\n",
        "\n",
        "# Slicing\n",
        "slice_tensor = tensor3[:, 1]  # Slice all rows, only the second column\n",
        "\n",
        "print(\"Indexed Element:\", element)\n",
        "print(\"Sliced Tensor:\")\n",
        "print(slice_tensor)\n"
      ],
      "metadata": {
        "colab": {
          "base_uri": "https://localhost:8080/"
        },
        "id": "q2PJ5Ke039ZD",
        "outputId": "e599d0c8-92d7-42c9-9232-103c94bb84af"
      },
      "execution_count": 8,
      "outputs": [
        {
          "output_type": "stream",
          "name": "stdout",
          "text": [
            "Indexed Element: tensor(2)\n",
            "Sliced Tensor:\n",
            "tensor([2, 4, 6])\n"
          ]
        }
      ]
    },
    {
      "cell_type": "code",
      "source": [],
      "metadata": {
        "id": "GV_yA-Nw4BpB"
      },
      "execution_count": null,
      "outputs": []
    }
  ]
}