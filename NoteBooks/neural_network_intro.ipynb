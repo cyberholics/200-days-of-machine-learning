{
  "nbformat": 4,
  "nbformat_minor": 0,
  "metadata": {
    "colab": {
      "provenance": []
    },
    "kernelspec": {
      "name": "python3",
      "display_name": "Python 3"
    },
    "language_info": {
      "name": "python"
    }
  },
  "cells": [
    {
      "cell_type": "markdown",
      "source": [
        "### import libraries and prepare data\n"
      ],
      "metadata": {
        "id": "-YPZuzufA3gw"
      }
    },
    {
      "cell_type": "code",
      "execution_count": 5,
      "metadata": {
        "id": "ME_w9op8pO9u"
      },
      "outputs": [],
      "source": [
        "\n",
        "import torch # PyTorch\n",
        "import torch.nn as nn # module for building neural network\n",
        "import torch.optim as optim #optimize neural network to reduce errors in training\n",
        "\n",
        "# Creating tensors\n",
        "\n",
        "A = torch.tensor([[10,20],[30,40]],dtype = torch.float32)\n",
        "B = torch.tensor([[50,60],[70,80]],dtype = torch.float32)\n",
        "\n",
        "# Creating dataset from tensors\n",
        "\n",
        "X = torch.cat((A,B),0)\n",
        "Y = torch.tensor([0,0,0,1])"
      ]
    },
    {
      "cell_type": "markdown",
      "source": [
        "### Creating neural network architecture"
      ],
      "metadata": {
        "id": "U3MePwFvBK-H"
      }
    },
    {
      "cell_type": "code",
      "source": [
        "class first_nn(nn.Module):\n",
        "  def __init__(self,input_size,hidden_size,output_size):\n",
        "    super(first_nn,self).__init__()\n",
        "    #layers\n",
        "    self.fc1 = nn.Linear(input_size,hiden_size)\n",
        "    self.fc2 = nn.Linear(hiden_size,output_size)\n",
        "\n",
        "    #activation function\n",
        "    self.relu = nn.ReLU()\n",
        "\n",
        "    #forward\n",
        "  def forward(self, x):\n",
        "      x = self.relu(self.fc1(x))\n",
        "      x = self.fc2(x)\n",
        "      return x\n",
        "\n",
        "  ### This network consists of two fully connected layers (nn.Linear) and a ReLU activation function (nn.ReLU)."
      ],
      "metadata": {
        "id": "2y3N5fitAYRa"
      },
      "execution_count": 28,
      "outputs": []
    },
    {
      "cell_type": "markdown",
      "source": [
        "### Creating instance of the model"
      ],
      "metadata": {
        "id": "rfzbLd6RGncJ"
      }
    },
    {
      "cell_type": "code",
      "source": [
        "input_size = 2\n",
        "hiden_size = 4\n",
        "output_size = 2\n",
        "model = first_nn(input_size, hiden_size, output_size)"
      ],
      "metadata": {
        "id": "mNEeS_6pBHwe"
      },
      "execution_count": 29,
      "outputs": []
    },
    {
      "cell_type": "markdown",
      "source": [
        "### Loss function and optimizer"
      ],
      "metadata": {
        "id": "LpZ9gbAqNs8g"
      }
    },
    {
      "cell_type": "code",
      "source": [
        "criterion = nn.CrossEntropyLoss()\n",
        "optimizer = optim.Adam(model.parameters(), lr=0.001)"
      ],
      "metadata": {
        "id": "9UaWZvtnHCPb"
      },
      "execution_count": 25,
      "outputs": []
    },
    {
      "cell_type": "markdown",
      "source": [
        "### Data preprocessing"
      ],
      "metadata": {
        "id": "wnT737e5PrfU"
      }
    },
    {
      "cell_type": "code",
      "source": [
        "# Convert to one-hot encoding\n",
        "y_one_hot = torch.nn.functional.one_hot(Y)"
      ],
      "metadata": {
        "id": "_9Di9YRFPqaf"
      },
      "execution_count": 26,
      "outputs": []
    },
    {
      "cell_type": "markdown",
      "source": [
        "### Training neural network"
      ],
      "metadata": {
        "id": "opmMbIr0P3xL"
      }
    },
    {
      "cell_type": "code",
      "source": [
        "epochs = 500\n",
        "for epoch in range(epochs):\n",
        "    # Zero the gradients\n",
        "    optimizer.zero_grad()\n",
        "    # Forward pass\n",
        "    outputs = model(X)\n",
        "    # Compute loss\n",
        "    loss = criterion(outputs, Y)\n",
        "    # Backward pass\n",
        "    loss.backward()\n",
        "    # Update weights\n",
        "    optimizer.step()\n",
        "    # Print loss every 50 epochs\n",
        "    if (epoch + 1) % 50 == 0:\n",
        "        print(f'Epoch {epoch+1}/{epochs}, Loss: {loss.item()}')"
      ],
      "metadata": {
        "colab": {
          "base_uri": "https://localhost:8080/"
        },
        "id": "Xi-jWdGqP2kX",
        "outputId": "5f4e05f3-7968-4273-eb48-72c6e4fda0d6"
      },
      "execution_count": 31,
      "outputs": [
        {
          "output_type": "stream",
          "name": "stdout",
          "text": [
            "Epoch 50/500, Loss: 2.4637629985809326\n",
            "Epoch 100/500, Loss: 2.4637629985809326\n",
            "Epoch 150/500, Loss: 2.4637629985809326\n",
            "Epoch 200/500, Loss: 2.4637629985809326\n",
            "Epoch 250/500, Loss: 2.4637629985809326\n",
            "Epoch 300/500, Loss: 2.4637629985809326\n",
            "Epoch 350/500, Loss: 2.4637629985809326\n",
            "Epoch 400/500, Loss: 2.4637629985809326\n",
            "Epoch 450/500, Loss: 2.4637629985809326\n",
            "Epoch 500/500, Loss: 2.4637629985809326\n"
          ]
        }
      ]
    },
    {
      "cell_type": "markdown",
      "source": [
        "### Evaluating the model"
      ],
      "metadata": {
        "id": "xgQqn0PCR24D"
      }
    },
    {
      "cell_type": "code",
      "source": [
        "with torch.no_grad():\n",
        "  outputs = model(X)\n",
        "  _, predicted = torch.max(outputs, 1)\n",
        "  print('Predicted:', predicted)"
      ],
      "metadata": {
        "colab": {
          "base_uri": "https://localhost:8080/"
        },
        "id": "5ZoI6dr_R5-F",
        "outputId": "ca772a2b-b6f0-4db3-bf06-fbc1edd23e58"
      },
      "execution_count": 34,
      "outputs": [
        {
          "output_type": "stream",
          "name": "stdout",
          "text": [
            "Predicted: tensor([0, 0, 0, 0])\n"
          ]
        }
      ]
    },
    {
      "cell_type": "code",
      "source": [],
      "metadata": {
        "id": "KYWyeuPhR7Et"
      },
      "execution_count": null,
      "outputs": []
    }
  ]
}