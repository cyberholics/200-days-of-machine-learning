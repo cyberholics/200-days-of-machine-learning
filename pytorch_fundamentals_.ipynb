{
  "nbformat": 4,
  "nbformat_minor": 0,
  "metadata": {
    "colab": {
      "provenance": [],
      "authorship_tag": "ABX9TyM7qnh3+pufH891q38+tmYf",
      "include_colab_link": true
    },
    "kernelspec": {
      "name": "python3",
      "display_name": "Python 3"
    },
    "language_info": {
      "name": "python"
    }
  },
  "cells": [
    {
      "cell_type": "markdown",
      "metadata": {
        "id": "view-in-github",
        "colab_type": "text"
      },
      "source": [
        "<a href=\"https://colab.research.google.com/github/cyberholics/200-days-of-machine-learning/blob/main/pytorch_fundamentals_.ipynb\" target=\"_parent\"><img src=\"https://colab.research.google.com/assets/colab-badge.svg\" alt=\"Open In Colab\"/></a>"
      ]
    },
    {
      "cell_type": "code",
      "execution_count": 2,
      "metadata": {
        "id": "5In7-pc1ghkH"
      },
      "outputs": [],
      "source": [
        "#import pytorch framework\n",
        "import torch\n"
      ]
    },
    {
      "cell_type": "markdown",
      "source": [
        "### Creating Tensors"
      ],
      "metadata": {
        "id": "e7z4XjRPk64e"
      }
    },
    {
      "cell_type": "code",
      "source": [
        "import torch\n",
        "\n",
        "# Create a tensor from a Python list\n",
        "tensor1 = torch.tensor([[1, 2, 3], [4, 5, 6]])\n",
        "\n",
        "# Create a tensor of zeros with shape (2, 3)\n",
        "zeros_tensor = torch.zeros(2, 3)\n",
        "\n",
        "# Create a tensor of random values with shape (2, 3)\n",
        "random_tensor = torch.rand(2, 3)\n",
        "\n",
        "# Print tensors\n",
        "print(\"Tensor 1:\", tensor1)\n",
        "\n",
        "print(\"Zeros Tensor:\", zeros_tensor)\n",
        "\n",
        "print(\"Random Tensor:\", random_tensor)\n"
      ],
      "metadata": {
        "id": "elm8BbVlkY4O",
        "colab": {
          "base_uri": "https://localhost:8080/"
        },
        "outputId": "a815f105-d9e0-41cd-d32e-04ab9836bfbd"
      },
      "execution_count": 4,
      "outputs": [
        {
          "output_type": "stream",
          "name": "stdout",
          "text": [
            "Tensor 1: tensor([[1, 2, 3],\n",
            "        [4, 5, 6]])\n",
            "Zeros Tensor: tensor([[0., 0., 0.],\n",
            "        [0., 0., 0.]])\n",
            "Random Tensor: tensor([[0.8247, 0.7227, 0.8296],\n",
            "        [0.7454, 0.5778, 0.8303]])\n"
          ]
        }
      ]
    },
    {
      "cell_type": "code",
      "source": [
        "# Addition\n",
        "tensor2 = torch.tensor([[7, 8, 9], [10, 11, 12]])\n",
        "sum_tensor = tensor1 + tensor2\n",
        "\n",
        "# Multiplication\n",
        "mul_tensor = tensor1 * 2\n",
        "\n",
        "print(\"Sum Tensor:\", sum_tensor)\n",
        "print(\"Multiplication Tensor:\", mul_tensor)"
      ],
      "metadata": {
        "colab": {
          "base_uri": "https://localhost:8080/"
        },
        "id": "4C3W_xdIiY5E",
        "outputId": "68da5239-2aec-4263-d2df-f96ce326006c"
      },
      "execution_count": 5,
      "outputs": [
        {
          "output_type": "stream",
          "name": "stdout",
          "text": [
            "Sum Tensor: tensor([[ 8, 10, 12],\n",
            "        [14, 16, 18]])\n",
            "Multiplication Tensor: tensor([[ 2,  4,  6],\n",
            "        [ 8, 10, 12]])\n"
          ]
        }
      ]
    },
    {
      "cell_type": "code",
      "source": [
        "# Vector\n",
        "vector = torch.tensor([[7, 7],\n",
        " [12,15]])\n",
        "print(vector)\n",
        "print(vector.shape)\n",
        "vector.ndim"
      ],
      "metadata": {
        "colab": {
          "base_uri": "https://localhost:8080/"
        },
        "id": "ccsXdNIfi-1R",
        "outputId": "d3196b92-769f-4b8b-f09a-21f3ff03bfe8"
      },
      "execution_count": null,
      "outputs": [
        {
          "output_type": "stream",
          "name": "stdout",
          "text": [
            "tensor([[ 7,  7],\n",
            "        [12, 15]])\n",
            "torch.Size([2, 2])\n"
          ]
        },
        {
          "output_type": "execute_result",
          "data": {
            "text/plain": [
              "2"
            ]
          },
          "metadata": {},
          "execution_count": 18
        }
      ]
    },
    {
      "cell_type": "code",
      "source": [
        "# Create a tensor\n",
        "import torch\n",
        "x = torch.arange(1, 10).reshape(3, 3)\n",
        "x, x.shape"
      ],
      "metadata": {
        "colab": {
          "base_uri": "https://localhost:8080/"
        },
        "id": "yfvqtZzzjQjq",
        "outputId": "110c0904-1ddb-4d60-c2f9-b58532ba9218"
      },
      "execution_count": null,
      "outputs": [
        {
          "output_type": "execute_result",
          "data": {
            "text/plain": [
              "(tensor([[1, 2, 3],\n",
              "         [4, 5, 6],\n",
              "         [7, 8, 9]]),\n",
              " torch.Size([3, 3]))"
            ]
          },
          "metadata": {},
          "execution_count": 20
        }
      ]
    }
  ]
}